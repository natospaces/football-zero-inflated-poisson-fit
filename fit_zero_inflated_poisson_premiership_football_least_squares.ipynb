{
 "cells": [
  {
   "cell_type": "markdown",
   "metadata": {},
   "source": [
    "Import the necessary libraries, nothing special here except for the [lmfit](https://lmfit.github.io/lmfit-py/index.html) library which is crucial to the fitting of the distribution to the data "
   ]
  },
  {
   "cell_type": "code",
   "execution_count": 2,
   "metadata": {},
   "outputs": [],
   "source": [
    "from lmfit import minimize, Parameters\n",
    "from numpy import exp\n",
    "\n",
    "import numpy as np\n",
    "import pandas as pd\n",
    "\n",
    "from scipy import stats\n",
    "\n",
    "import matplotlib.pyplot as plt\n",
    "%matplotlib inline"
   ]
  },
  {
   "cell_type": "markdown",
   "metadata": {},
   "source": [
    "Source data is basically the goals scored by Stoke City FC in the 2012-2013 season after 23 matches\n",
    "this is the sequence of the goals\n",
    "\n",
    "[1,2,1,3,3,0,0,1,2,0,1,1,1,1,0,0,0,1,2,0,0,2,0]\n",
    "\n",
    "organise the above data into 0,1,2,3,4,5 goals bins as that is easier to process for my purpose, \n",
    "if there's a match where Stoke scored more than 5 goals that would be put in the 5 goals bin"
   ]
  },
  {
   "cell_type": "code",
   "execution_count": null,
   "metadata": {},
   "outputs": [],
   "source": [
    "teamname = 'Stoke FC'\n",
    "\n",
    "team_goals_bins = [[0,9,teamname],[1,8,teamname],[2,4,teamname],[3,2,teamname],[4,0,teamname],[5,0,teamname]]\n",
    "\n",
    "team_dataframe_goal_frequency = pd.DataFrame(team_goals_bins,columns=['goals','frequency','team'])"
   ]
  },
  {
   "cell_type": "markdown",
   "metadata": {},
   "source": [
    "define 2 functions \n",
    "\n",
    "- **team_goals_pooled_bins(goals_scored)** returns the percentage of goals scored by goal bin essentially what can be called actual data\n",
    "   - parameter1 -> **goals scored** list of goals scored by Stoke for each bin\n",
    "   \n",
    "\n",
    "- **zip_pmf(goals_bin, zero_adjustment, poisson_distribution_mean)** returns percentage of goals scored by goals bin as predicted by the distribution, \n",
    "   - parameter1 -> **goals_bin**, this is a list of 0 to 5 essentially since the distribution has to assign a percentage to each      goals bin\n",
    "\n",
    "   - parameter2 -> **zero_adjustment**, this the parameter used to account for the excess number of zeros in the poisson              distribution\n",
    "\n",
    "   - parameter3 -> **poisson_distribution_mean**, parameter used by poisson distribution which is generaly the weighted average      of whatever count data it's using,\n",
    "\n",
    "for a normal poisson this will be  the sum of the goals scored multiplied by goal bin divided by sum of goals scored but of course it will be likely be different from poisson in this zero inflated case\n"
   ]
  },
  {
   "cell_type": "code",
   "execution_count": 9,
   "metadata": {},
   "outputs": [],
   "source": [
    "def team_goals_pooled_bins(goals_scored):\n",
    "    return goals_scored/np.sum(goals_scored)\n",
    "\n",
    "def zip_pmf(goals_bin, zero_adjustment, poisson_distribution_mean):\n",
    "    if zero_adjustment < 0 or zero_adjustment > 1 or poisson_distribution_mean <= 0:\n",
    "        return np.zeros_like(goals_bin)\n",
    "    else:\n",
    "        return (goals_bin == 0) * (1 - zero_adjustment) + (zero_adjustment  * stats.poisson.pmf(goals_bin, poisson_distribution_mean))"
   ]
  },
  {
   "cell_type": "markdown",
   "metadata": {},
   "source": [
    "list to store percentage of goals scored by bin, this is part of what will be used in calculating least squares"
   ]
  },
  {
   "cell_type": "code",
   "execution_count": 12,
   "metadata": {},
   "outputs": [],
   "source": [
    "relative_frequency = team_goals_pooled_bins(team_dataframe_goal_frequency['frequency'])"
   ]
  },
  {
   "cell_type": "markdown",
   "metadata": {},
   "source": [
    "these frequency weights were used by the author in the excel example but it seems as if the fit function of lmfit doesn't need \n",
    "them for parameter estimation, kept this code for reference purposes "
   ]
  },
  {
   "cell_type": "code",
   "execution_count": 10,
   "metadata": {},
   "outputs": [],
   "source": [
    "\n",
    "frequency_weight = (relative_frequency == 0) + 0 + (1/(relative_frequency*(1-relative_frequency)))\n",
    "frequency_weight = np.where(frequency_weight == np.inf,0,frequency_weight)"
   ]
  },
  {
   "cell_type": "markdown",
   "metadata": {},
   "source": [
    "adding initial parameters since in order for an optimization function to estimate paramaters it needs a starting point"
   ]
  },
  {
   "cell_type": "code",
   "execution_count": 11,
   "metadata": {},
   "outputs": [],
   "source": [
    "params = Parameters()\n",
    "params.add('zip_phi_param', value=0.5, min=0.0,max=1.0)\n",
    "params.add('poisson_distribution_mean', value=2.0, min=1)"
   ]
  },
  {
   "cell_type": "markdown",
   "metadata": {},
   "source": [
    "function to calculate the sum of squares residuals between the actual goals bin percentages  and zero inflated poisson probability distribution estimated percentages  \n",
    "\n",
    "\n",
    "- **residual(params, zero_adjustment, poisson_distribution_mean)** returns percentage of goals scored by goals bin as predicted by the distribution, \n",
    "   - parameter1 -> **params**, initial parameters for the zero inflated poisson to be used in initial estimation\n",
    "\n",
    "   - parameter2 -> **goals_bin**, this is a list of 0 to 5 essentially since the distribution has to assign a percentage to each      goals bin\n",
    "\n",
    "   - parameter3 -> **actual_bin_percentage_data**, data to be passed by relative frequency list"
   ]
  },
  {
   "cell_type": "code",
   "execution_count": 13,
   "metadata": {},
   "outputs": [],
   "source": [
    "def residual(params, goals_bin, actual_bin_percentage_data):\n",
    "    zip_phi_param = params['zip_phi_param'].value\n",
    "    poisson_distribution_mean = params['poisson_distribution_mean'].value\n",
    "    zip_fitted_data = zip_pmf(goals_bin, zip_phi_param, poisson_distribution_mean)\n",
    "    return (actual_bin_percentage_data-zip_fitted_data)"
   ]
  },
  {
   "cell_type": "markdown",
   "metadata": {},
   "source": [
    "this is where the magic happens from a mathematical optimization perspective, as it stands this is a black box to me but a \n",
    "little research suggests a jacobian and a system of equations is involved\n",
    "\n",
    "lmfit library which returns the estimated parameters to fit the actual data"
   ]
  },
  {
   "cell_type": "code",
   "execution_count": 15,
   "metadata": {},
   "outputs": [],
   "source": [
    "out = minimize(residual, params, args=(team_dataframe_goal_frequency['goals'], relative_frequency))"
   ]
  },
  {
   "cell_type": "code",
   "execution_count": null,
   "metadata": {},
   "outputs": [],
   "source": [
    "Parameters as estimated by lmfit"
   ]
  },
  {
   "cell_type": "code",
   "execution_count": 16,
   "metadata": {},
   "outputs": [
    {
     "data": {
      "text/plain": [
       "Parameters([('zip_phi_param',\n",
       "             <Parameter 'zip_phi_param', value=0.9366533821550389 +/- 0.034, bounds=[0.0:1.0]>),\n",
       "            ('poisson_distribution_mean',\n",
       "             <Parameter 'poisson_distribution_mean', value=1.0549237254251718 +/- 0.0683, bounds=[1:inf]>)])"
      ]
     },
     "execution_count": 16,
     "metadata": {},
     "output_type": "execute_result"
    }
   ],
   "source": [
    "out.params"
   ]
  },
  {
   "cell_type": "markdown",
   "metadata": {},
   "source": [
    "Graphing the results with MatplotLib, in the future this will be done with plotly's dash"
   ]
  },
  {
   "cell_type": "code",
   "execution_count": 20,
   "metadata": {},
   "outputs": [
    {
     "data": {
      "image/png": "[encoded data removed]",
      "text/plain": [
       "<Figure size 432x288 with 1 Axes>"
      ]
     },
     "metadata": {
      "needs_background": "light"
     },
     "output_type": "display_data"
    }
   ],
   "source": [
    "width = np.min(np.diff(team_dataframe_goal_frequency['goals']))/3\n",
    "\n",
    "fig = plt.figure()\n",
    "ax = fig.add_subplot(111)\n",
    "ax.bar(team_dataframe_goal_frequency['goals']-width,relative_frequency,width,color='b',label='-Ymin')\n",
    "ax.bar(team_dataframe_goal_frequency['goals'],zip_pmf(team_dataframe_goal_frequency['goals'],out.params['zip_phi_param'].value,out.params['poisson_distribution_mean'].value),width,color='r',label='Ymax')\n",
    "ax.set_xlabel('Stoke FC - Goals Bins')\n",
    "plt.show()"
   ]
  },
  {
   "cell_type": "markdown",
   "metadata": {},
   "source": [
    "As it can be seen above the blue which is actual goals is closley matched by the zero inflated estimation in red, the last part which \n",
    "I won't delve to for now is the use of the chi-squared distribution to see how well the estimate fits the data  "
   ]
  },
  {
   "cell_type": "markdown",
   "metadata": {},
   "source": []
  }
 ],
 "metadata": {
  "kernelspec": {
   "display_name": "Python 3",
   "language": "python",
   "name": "python3"
  },
  "language_info": {
   "codemirror_mode": {
    "name": "ipython",
    "version": 3
   },
   "file_extension": ".py",
   "mimetype": "text/x-python",
   "name": "python",
   "nbconvert_exporter": "python",
   "pygments_lexer": "ipython3",
   "version": "3.7.0"
  }
 },
 "nbformat": 4,
 "nbformat_minor": 2
}
